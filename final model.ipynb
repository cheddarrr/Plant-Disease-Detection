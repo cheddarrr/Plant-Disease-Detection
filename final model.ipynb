{
 "cells": [
  {
   "cell_type": "code",
   "execution_count": 1,
   "id": "3ad08709",
   "metadata": {},
   "outputs": [],
   "source": [
    "import tensorflow as tf\n",
    "from tensorflow import keras\n",
    "from keras.models import Model\n",
    "from keras.models import Sequential\n",
    "from keras.layers import Dense, Flatten, BatchNormalization, GlobalAveragePooling2D, Conv2D, Input, MaxPooling2D, Dropout\n",
    "from keras.preprocessing.image import ImageDataGenerator\n",
    "from keras.applications.resnet import ResNet50"
   ]
  },
  {
   "cell_type": "code",
   "execution_count": 2,
   "id": "969f8f7c",
   "metadata": {},
   "outputs": [
    {
     "name": "stdout",
     "output_type": "stream",
     "text": [
      "Found 3775 images belonging to 2 classes.\n"
     ]
    }
   ],
   "source": [
    "train_datagen = ImageDataGenerator(rescale=1./255, width_shift_range=0.1, height_shift_range=0.1)\n",
    "path = '/Users/nithya/Documents/Semester 6/Plant Disease/train'\n",
    "train_generator = train_datagen.flow_from_directory(\n",
    "        path,  \n",
    "        target_size=(224,224),  \n",
    "        batch_size=1)"
   ]
  },
  {
   "cell_type": "code",
   "execution_count": 3,
   "id": "7da0ad69",
   "metadata": {},
   "outputs": [
    {
     "name": "stdout",
     "output_type": "stream",
     "text": [
      "Found 943 images belonging to 2 classes.\n"
     ]
    }
   ],
   "source": [
    "val_datagen = ImageDataGenerator(rescale=1./255)\n",
    "path = '/Users/nithya/Documents/Semester 6/Plant Disease/val'\n",
    "val_generator = val_datagen.flow_from_directory(\n",
    "        path,  \n",
    "        target_size=(224,224),  \n",
    "        batch_size=1)"
   ]
  },
  {
   "cell_type": "code",
   "execution_count": 33,
   "id": "4fb6f394",
   "metadata": {},
   "outputs": [
    {
     "name": "stdout",
     "output_type": "stream",
     "text": [
      "Model: \"sequential_4\"\n",
      "_________________________________________________________________\n",
      " Layer (type)                Output Shape              Param #   \n",
      "=================================================================\n",
      " conv2d_40 (Conv2D)          (None, 224, 224, 32)      896       \n",
      "                                                                 \n",
      " conv2d_41 (Conv2D)          (None, 224, 224, 32)      9248      \n",
      "                                                                 \n",
      " max_pooling2d_12 (MaxPoolin  (None, 74, 74, 32)       0         \n",
      " g2D)                                                            \n",
      "                                                                 \n",
      " conv2d_42 (Conv2D)          (None, 74, 74, 64)        18496     \n",
      "                                                                 \n",
      " conv2d_43 (Conv2D)          (None, 74, 74, 64)        36928     \n",
      "                                                                 \n",
      " max_pooling2d_13 (MaxPoolin  (None, 24, 24, 64)       0         \n",
      " g2D)                                                            \n",
      "                                                                 \n",
      " conv2d_44 (Conv2D)          (None, 24, 24, 128)       73856     \n",
      "                                                                 \n",
      " conv2d_45 (Conv2D)          (None, 24, 24, 128)       147584    \n",
      "                                                                 \n",
      " max_pooling2d_14 (MaxPoolin  (None, 8, 8, 128)        0         \n",
      " g2D)                                                            \n",
      "                                                                 \n",
      " conv2d_46 (Conv2D)          (None, 8, 8, 256)         295168    \n",
      "                                                                 \n",
      " conv2d_47 (Conv2D)          (None, 8, 8, 256)         590080    \n",
      "                                                                 \n",
      " conv2d_48 (Conv2D)          (None, 8, 8, 512)         3277312   \n",
      "                                                                 \n",
      " conv2d_49 (Conv2D)          (None, 8, 8, 512)         6554112   \n",
      "                                                                 \n",
      " flatten_4 (Flatten)         (None, 32768)             0         \n",
      "                                                                 \n",
      " dense_8 (Dense)             (None, 1568)              51381792  \n",
      "                                                                 \n",
      " dropout_4 (Dropout)         (None, 1568)              0         \n",
      "                                                                 \n",
      " dense_9 (Dense)             (None, 2)                 3138      \n",
      "                                                                 \n",
      "=================================================================\n",
      "Total params: 62,388,610\n",
      "Trainable params: 62,388,610\n",
      "Non-trainable params: 0\n",
      "_________________________________________________________________\n"
     ]
    }
   ],
   "source": [
    "model = keras.Sequential()\n",
    "\n",
    "model.add(keras.layers.Conv2D(32,(3,3),activation=\"relu\",padding=\"same\",input_shape=(224 , 224, 3)))\n",
    "model.add(keras.layers.Conv2D(32,(3,3),activation=\"relu\",padding=\"same\"))\n",
    "model.add(keras.layers.MaxPooling2D(3,3))\n",
    "\n",
    "model.add(keras.layers.Conv2D(64,(3,3),activation=\"relu\",padding=\"same\"))\n",
    "model.add(keras.layers.Conv2D(64,(3,3),activation=\"relu\",padding=\"same\"))\n",
    "model.add(keras.layers.MaxPooling2D(3,3))\n",
    "\n",
    "model.add(keras.layers.Conv2D(128,(3,3),activation=\"relu\",padding=\"same\"))\n",
    "model.add(keras.layers.Conv2D(128,(3,3),activation=\"relu\",padding=\"same\"))\n",
    "model.add(keras.layers.MaxPooling2D(3,3))\n",
    "\n",
    "model.add(keras.layers.Conv2D(256,(3,3),activation=\"relu\",padding=\"same\"))\n",
    "model.add(keras.layers.Conv2D(256,(3,3),activation=\"relu\",padding=\"same\"))\n",
    "\n",
    "model.add(keras.layers.Conv2D(512,(5,5),activation=\"relu\",padding=\"same\"))\n",
    "model.add(keras.layers.Conv2D(512,(5,5),activation=\"relu\",padding=\"same\"))\n",
    "\n",
    "model.add(keras.layers.Flatten())\n",
    "\n",
    "model.add(keras.layers.Dense(1568,activation=\"relu\"))\n",
    "model.add(keras.layers.Dropout(0.5))\n",
    "\n",
    "model.add(keras.layers.Dense(2,activation=\"softmax\"))\n",
    "\n",
    "opt = keras.optimizers.Adam(learning_rate=0.0001)\n",
    "model.compile(optimizer=opt,loss=\"binary_crossentropy\",metrics=['accuracy'])\n",
    "model.summary()"
   ]
  },
  {
   "cell_type": "code",
   "execution_count": 34,
   "id": "9144a57d",
   "metadata": {},
   "outputs": [
    {
     "name": "stdout",
     "output_type": "stream",
     "text": [
      "Epoch 1/5\n",
      "3775/3775 [==============================] - 240s 63ms/step - loss: 0.7200 - accuracy: 0.5338 - val_loss: 0.4739 - val_accuracy: 0.7815\n",
      "Epoch 2/5\n",
      "3775/3775 [==============================] - 235s 62ms/step - loss: 0.4233 - accuracy: 0.8262 - val_loss: 0.2845 - val_accuracy: 0.8940\n",
      "Epoch 3/5\n",
      "3775/3775 [==============================] - 242s 64ms/step - loss: 0.2764 - accuracy: 0.9081 - val_loss: 0.2066 - val_accuracy: 0.9576\n",
      "Epoch 4/5\n",
      "3775/3775 [==============================] - 250s 66ms/step - loss: 0.1948 - accuracy: 0.9425 - val_loss: 0.1775 - val_accuracy: 0.9374\n",
      "Epoch 5/5\n",
      "3775/3775 [==============================] - 245s 65ms/step - loss: 0.1808 - accuracy: 0.9568 - val_loss: 0.1607 - val_accuracy: 0.9533\n"
     ]
    }
   ],
   "source": [
    "history = model.fit(train_generator,validation_data=val_generator, epochs = 5, verbose = 1)"
   ]
  },
  {
   "cell_type": "code",
   "execution_count": 6,
   "id": "4738b027",
   "metadata": {},
   "outputs": [],
   "source": [
    "model.save('model1.h5')"
   ]
  },
  {
   "cell_type": "code",
   "execution_count": 20,
   "id": "09ea717e",
   "metadata": {},
   "outputs": [],
   "source": [
    "from keras.models import load_model"
   ]
  },
  {
   "cell_type": "code",
   "execution_count": 21,
   "id": "c7ed5b84",
   "metadata": {},
   "outputs": [],
   "source": [
    "model=load_model('model1.h5')"
   ]
  },
  {
   "cell_type": "code",
   "execution_count": 35,
   "id": "8f6ffed4",
   "metadata": {},
   "outputs": [
    {
     "name": "stdout",
     "output_type": "stream",
     "text": [
      "Found 1 images belonging to 1 classes.\n"
     ]
    }
   ],
   "source": [
    "val_path = '/Users/nithya/Documents/Semester 6/Plant Disease/imagetest'\n",
    "val_datagen = ImageDataGenerator(rescale = 1./255)\n",
    "val_set = val_datagen.flow_from_directory(val_path,\n",
    "                                            target_size = (224, 224))"
   ]
  },
  {
   "cell_type": "code",
   "execution_count": 36,
   "id": "16748942",
   "metadata": {},
   "outputs": [
    {
     "name": "stdout",
     "output_type": "stream",
     "text": [
      "1/1 [==============================] - 0s 195ms/step\n"
     ]
    },
    {
     "data": {
      "text/plain": [
       "array([[9.999349e-01, 7.108997e-05]], dtype=float32)"
      ]
     },
     "execution_count": 36,
     "metadata": {},
     "output_type": "execute_result"
    }
   ],
   "source": [
    "model.predict(val_set)"
   ]
  },
  {
   "cell_type": "code",
   "execution_count": 29,
   "id": "ff9c7445",
   "metadata": {},
   "outputs": [
    {
     "data": {
      "text/plain": [
       "{'Tomato___Late_blight': 0, 'Tomato___healthy': 1}"
      ]
     },
     "execution_count": 29,
     "metadata": {},
     "output_type": "execute_result"
    }
   ],
   "source": [
    "train_generator.class_indices"
   ]
  },
  {
   "cell_type": "code",
   "execution_count": 2,
   "id": "3ecd8671",
   "metadata": {},
   "outputs": [
    {
     "name": "stdout",
     "output_type": "stream",
     "text": [
      "Metal device set to: Apple M2\n"
     ]
    },
    {
     "name": "stderr",
     "output_type": "stream",
     "text": [
      "WARNING:absl:Found untraced functions such as _jit_compiled_convolution_op, _jit_compiled_convolution_op, _jit_compiled_convolution_op, _jit_compiled_convolution_op, _jit_compiled_convolution_op while saving (showing 5 of 10). These functions will not be directly callable after loading.\n"
     ]
    },
    {
     "name": "stdout",
     "output_type": "stream",
     "text": [
      "INFO:tensorflow:Assets written to: /var/folders/nr/t0kkfjrx3jd5m946381_h7xc0000gq/T/tmp53p70354/assets\n"
     ]
    },
    {
     "name": "stderr",
     "output_type": "stream",
     "text": [
      "INFO:tensorflow:Assets written to: /var/folders/nr/t0kkfjrx3jd5m946381_h7xc0000gq/T/tmp53p70354/assets\n",
      "2023-04-15 09:39:48.699899: W tensorflow/compiler/mlir/lite/python/tf_tfl_flatbuffer_helpers.cc:362] Ignored output_format.\n",
      "2023-04-15 09:39:48.699924: W tensorflow/compiler/mlir/lite/python/tf_tfl_flatbuffer_helpers.cc:365] Ignored drop_control_dependency.\n",
      "2023-04-15 09:39:48.719434: W tensorflow/core/platform/profile_utils/cpu_utils.cc:128] Failed to get CPU frequency: 0 Hz\n"
     ]
    },
    {
     "data": {
      "text/plain": [
       "249561796"
      ]
     },
     "execution_count": 2,
     "metadata": {},
     "output_type": "execute_result"
    }
   ],
   "source": [
    "import tensorflow as tf\n",
    "\n",
    "model = tf.keras.models.load_model('model1.h5')\n",
    "converter = tf.lite.TFLiteConverter.from_keras_model(model)\n",
    "tflite_model = converter.convert()\n",
    "open(\"model.tflite\", \"wb\").write(tflite_model)"
   ]
  }
 ],
 "metadata": {
  "kernelspec": {
   "display_name": "Python 3 (ipykernel)",
   "language": "python",
   "name": "python3"
  },
  "language_info": {
   "codemirror_mode": {
    "name": "ipython",
    "version": 3
   },
   "file_extension": ".py",
   "mimetype": "text/x-python",
   "name": "python",
   "nbconvert_exporter": "python",
   "pygments_lexer": "ipython3",
   "version": "3.10.9"
  }
 },
 "nbformat": 4,
 "nbformat_minor": 5
}
